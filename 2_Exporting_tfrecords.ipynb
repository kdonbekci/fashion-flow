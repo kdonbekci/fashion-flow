{
 "cells": [
  {
   "cell_type": "code",
   "execution_count": 1,
   "metadata": {},
   "outputs": [],
   "source": [
    "from utils import *\n",
    "import tensorflow as tf\n",
    "tf.enable_eager_execution()\n",
    "from sklearn.utils import shuffle\n",
    "from sklearn.model_selection import train_test_split\n",
    "import h5py\n",
    "import math, gc"
   ]
  },
  {
   "cell_type": "markdown",
   "metadata": {},
   "source": [
    "# Dataset creation\n",
    "To be able to input the DeepFashion dataset, we need to massage it into a format accepted by the Glow model."
   ]
  },
  {
   "cell_type": "code",
   "execution_count": 2,
   "metadata": {},
   "outputs": [],
   "source": [
    "PATH = os.path.join(DATA_DIR, 'DeepFashion', 'Fashion Synthesis', 'G2.h5')\n",
    "IMG_PER_CHUNK = 1536\n",
    "TEST_RATIO = .20\n",
    "# DEFAULT_SHAPE = (128, 128, 3)"
   ]
  },
  {
   "cell_type": "markdown",
   "metadata": {},
   "source": [
    "### Reading in h5 file"
   ]
  },
  {
   "cell_type": "code",
   "execution_count": 3,
   "metadata": {},
   "outputs": [],
   "source": [
    "f = h5py.File(PATH, 'r')\n",
    "segmentations = f['b_']\n",
    "images = f['ih']\n",
    "image_mean = f['ih_mean'][()]\n",
    "N = len(images)"
   ]
  },
  {
   "cell_type": "markdown",
   "metadata": {},
   "source": [
    "The channel is in front and the images are rotated 90 degrees by default. So we will take the transpose of the images as well as the ghosts."
   ]
  },
  {
   "cell_type": "code",
   "execution_count": 4,
   "metadata": {},
   "outputs": [],
   "source": [
    "i = 236"
   ]
  },
  {
   "cell_type": "code",
   "execution_count": 5,
   "metadata": {},
   "outputs": [
    {
     "name": "stdout",
     "output_type": "stream",
     "text": [
      "(3, 128, 128)\n"
     ]
    },
    {
     "data": {
      "image/png": "[encoded data removed]",
      "text/plain": [
       "<Figure size 432x288 with 1 Axes>"
      ]
     },
     "metadata": {
      "needs_background": "light"
     },
     "output_type": "display_data"
    }
   ],
   "source": [
    "print(images[0].shape)\n",
    "_=plt.imshow(segmentations[i][0])"
   ]
  },
  {
   "cell_type": "code",
   "execution_count": 6,
   "metadata": {},
   "outputs": [
    {
     "name": "stderr",
     "output_type": "stream",
     "text": [
      "Clipping input data to the valid range for imshow with RGB data ([0..1] for floats or [0..255] for integers).\n"
     ]
    },
    {
     "name": "stdout",
     "output_type": "stream",
     "text": [
      "(128, 128, 3)\n"
     ]
    },
    {
     "data": {
      "image/png": "[encoded data removed]",
      "text/plain": [
       "<Figure size 432x288 with 1 Axes>"
      ]
     },
     "metadata": {
      "needs_background": "light"
     },
     "output_type": "display_data"
    }
   ],
   "source": [
    "print(images[90].T.shape)\n",
    "_=plt.imshow(images[i].T + image_mean.T)"
   ]
  },
  {
   "cell_type": "markdown",
   "metadata": {},
   "source": [
    "### Forming train, test splits"
   ]
  },
  {
   "cell_type": "markdown",
   "metadata": {},
   "source": [
    "We will extract the images out from the h5 dataformat into a list of chunks."
   ]
  },
  {
   "cell_type": "code",
   "execution_count": 7,
   "metadata": {},
   "outputs": [],
   "source": [
    "images, segmentations = shuffle(images[()], segmentations[()])"
   ]
  },
  {
   "cell_type": "code",
   "execution_count": 8,
   "metadata": {},
   "outputs": [],
   "source": [
    "train_images, test_images, train_segmentations, test_segmentations = train_test_split(\n",
    "    images, segmentations, test_size=TEST_RATIO, shuffle=False)\n",
    "train_images, val_images, train_segmentations, val_segmentations = train_test_split(\n",
    "    train_images, train_segmentations, test_size=TEST_RATIO, shuffle=False)\n",
    "images = {'train': train_images, 'val': val_images, 'test': test_images}\n",
    "segmentations = {'train': train_segmentations, 'val': val_segmentations, 'test': test_segmentations}"
   ]
  },
  {
   "cell_type": "code",
   "execution_count": 9,
   "metadata": {},
   "outputs": [],
   "source": [
    "img_chunks = {}\n",
    "seg_chunks = {}\n",
    "for split in ['train', 'val', 'test']:\n",
    "    img_chunks[split] = []\n",
    "    seg_chunks[split] = []\n",
    "    for i in range(math.floor(len(images[split]) // IMG_PER_CHUNK)):\n",
    "        img_chunks[split].append(images[split][i*IMG_PER_CHUNK: (i+1) * IMG_PER_CHUNK])\n",
    "        seg_chunks[split].append(segmentations[split][i*IMG_PER_CHUNK: (i+1) * IMG_PER_CHUNK])\n",
    "    img_chunks[split].append(images[split][(math.floor(len(images[split])//IMG_PER_CHUNK)) * IMG_PER_CHUNK:])\n",
    "    seg_chunks[split].append(segmentations[split][(math.floor(len(segmentations[split])//IMG_PER_CHUNK))\n",
    "                                                  * IMG_PER_CHUNK:])"
   ]
  },
  {
   "cell_type": "code",
   "execution_count": 10,
   "metadata": {},
   "outputs": [
    {
     "name": "stdout",
     "output_type": "stream",
     "text": [
      "33 train chunks.\n",
      "9 val chunks.\n",
      "11 test chunks.\n",
      "Total of 53 chunks.\n"
     ]
    }
   ],
   "source": [
    "print('{} train chunks.'.format(len(img_chunks['train'])))\n",
    "print('{} val chunks.'.format(len(img_chunks['val'])))\n",
    "print('{} test chunks.'.format(len(img_chunks['test'])))\n",
    "print('Total of {} chunks.'.format(len(img_chunks['train']) + len(img_chunks['val']) \n",
    "                                   + len(img_chunks['test'])))\n"
   ]
  },
  {
   "cell_type": "markdown",
   "metadata": {},
   "source": [
    "The shuffle method creates a copy, so we can delete the images and segmentations to make room in RAM."
   ]
  },
  {
   "cell_type": "code",
   "execution_count": 11,
   "metadata": {},
   "outputs": [
    {
     "data": {
      "text/plain": [
       "2466"
      ]
     },
     "execution_count": 11,
     "metadata": {},
     "output_type": "execute_result"
    }
   ],
   "source": [
    "del images, segmentations\n",
    "gc.collect()"
   ]
  },
  {
   "cell_type": "markdown",
   "metadata": {},
   "source": [
    "### Serializing to Tensorflow examples"
   ]
  },
  {
   "cell_type": "markdown",
   "metadata": {},
   "source": [
    "Our images are sized the same and we will be exploring unconditional training so we can set our shape and label as constants."
   ]
  },
  {
   "cell_type": "code",
   "execution_count": 12,
   "metadata": {},
   "outputs": [],
   "source": [
    "def _int64_feature(value):\n",
    "    return tf.train.Feature(int64_list=tf.train.Int64List(value=[*value]))\n",
    "\n",
    "def _bytes_feature(value):\n",
    "    if isinstance(value, type(tf.constant(0))):\n",
    "        value = value.numpy() # BytesList won't unpack a string from an EagerTensor.\n",
    "    return tf.train.Feature(bytes_list=tf.train.BytesList(value=[value]))"
   ]
  },
  {
   "cell_type": "code",
   "execution_count": 13,
   "metadata": {},
   "outputs": [],
   "source": [
    "def encode_image(image):\n",
    "    out = tf.image.convert_image_dtype(image, dtype=tf.uint8).numpy().T\n",
    "    return out.tostring()"
   ]
  },
  {
   "cell_type": "code",
   "execution_count": 14,
   "metadata": {},
   "outputs": [],
   "source": [
    "def serialize_example(img, seg=None):\n",
    "    '''\n",
    "    Creates a tf.Example message ready to be written to a file.\n",
    "    '''\n",
    "    # Encode the image\n",
    "    img = encode_image(img)\n",
    "    seg = encode_image(seg)\n",
    "\n",
    "    # Create a dictionary mapping the feature name to the tf.Example-compatible data type.\n",
    "    feature = {\n",
    "        'image': _bytes_feature(img),\n",
    "        'segmentation': _bytes_feature(seg)\n",
    "    } \n",
    "    # Create a Features message using tf.train.Example.\n",
    "    example_proto = tf.train.Example(features=tf.train.Features(feature=feature))\n",
    "    return example_proto.SerializeToString()"
   ]
  },
  {
   "cell_type": "code",
   "execution_count": 15,
   "metadata": {},
   "outputs": [],
   "source": [
    "def parse_tfrecord_tf(record, res=128):\n",
    "    look_for = {\n",
    "        'image': tf.FixedLenFeature([], tf.string),\n",
    "        'segmentation': tf.FixedLenFeature([], tf.string)\n",
    "    }\n",
    "    features = tf.parse_single_example(record, features=look_for)\n",
    "    # to get CelebA attr, add 'attr': tf.FixedLenFeature([40], tf.int64)\n",
    "    image, segmentation = features['image'], features['segmentation']\n",
    "    image = tf.decode_raw(image, tf.uint8)\n",
    "    image = tf.reshape(image, [res, res, 3])\n",
    "    segmentation = tf.decode_raw(segmentation, tf.uint8)\n",
    "    segmentation = tf.reshape(segmentation, [res, res])\n",
    "    return image, segmentation  "
   ]
  },
  {
   "cell_type": "markdown",
   "metadata": {},
   "source": [
    "This is all the massaging needed to get our serialized example, let's give it a try with a sample image and segmentation map."
   ]
  },
  {
   "cell_type": "code",
   "execution_count": 16,
   "metadata": {},
   "outputs": [],
   "source": [
    "i = 101\n",
    "sample_img = train_images[i]\n",
    "sample_seg = train_segmentations[i]"
   ]
  },
  {
   "cell_type": "code",
   "execution_count": 17,
   "metadata": {},
   "outputs": [
    {
     "name": "stderr",
     "output_type": "stream",
     "text": [
      "Clipping input data to the valid range for imshow with RGB data ([0..1] for floats or [0..255] for integers).\n"
     ]
    },
    {
     "data": {
      "text/plain": [
       "<matplotlib.image.AxesImage at 0x7ff390f7d748>"
      ]
     },
     "execution_count": 17,
     "metadata": {},
     "output_type": "execute_result"
    },
    {
     "data": {
      "image/png": "[encoded data removed]",
      "text/plain": [
       "<Figure size 432x288 with 1 Axes>"
      ]
     },
     "metadata": {
      "needs_background": "light"
     },
     "output_type": "display_data"
    }
   ],
   "source": [
    "plt.imshow(sample_img.T)"
   ]
  },
  {
   "cell_type": "code",
   "execution_count": 18,
   "metadata": {},
   "outputs": [
    {
     "data": {
      "text/plain": [
       "<matplotlib.image.AxesImage at 0x7ff38c69d978>"
      ]
     },
     "execution_count": 18,
     "metadata": {},
     "output_type": "execute_result"
    },
    {
     "data": {
      "image/png": "[encoded data removed]",
      "text/plain": [
       "<Figure size 432x288 with 1 Axes>"
      ]
     },
     "metadata": {
      "needs_background": "light"
     },
     "output_type": "display_data"
    }
   ],
   "source": [
    "plt.imshow(sample_seg.T[:,:,0])"
   ]
  },
  {
   "cell_type": "code",
   "execution_count": 19,
   "metadata": {},
   "outputs": [
    {
     "name": "stdout",
     "output_type": "stream",
     "text": [
      "sample_serialized: b'\\n\\xb5\\x80\\x04\\n\\x9a\\x80\\x01\\n\\x0csegmentation\\x12\\x88\\x80\\x01\\n\\x84\\x80\\x01\\n\\x80\\x80\\x01\\x00\\x00\\x00\\x00\\x00\\x00\\x00\\x00\\x00\\x00\\x00\\x00\\x00\\x00\\x00\\x00\\x00\\x00\\x00\\x00\\x00\\x00\\x00\\x00\\x00\\x00\\x00\\x00\\x00\\x00\\x00\\x00\\x00\\x00\\x00\\x00\\x00\\x00\\x00\\x00\\x00\\x00\\x00\\x00\\x00\\x00\\x00\\x00\\x00\\x00\\x00\\x00\\x00\\x00\\x00\\x00\\x00\\x00\\x00\\x00\\x00\\x00\\x00\\x00\\x00\\x00'...\n"
     ]
    }
   ],
   "source": [
    "sample_serialized = serialize_example(sample_img, sample_seg)\n",
    "print('sample_serialized: {}...'.format(sample_serialized[:100]))"
   ]
  },
  {
   "cell_type": "markdown",
   "metadata": {},
   "source": [
    "Let's see if everything is working by parsing the serialized example."
   ]
  },
  {
   "cell_type": "code",
   "execution_count": 20,
   "metadata": {},
   "outputs": [],
   "source": [
    "img, seg = parse_tfrecord_tf(sample_serialized, res=128)"
   ]
  },
  {
   "cell_type": "code",
   "execution_count": 21,
   "metadata": {},
   "outputs": [
    {
     "data": {
      "text/plain": [
       "<matplotlib.image.AxesImage at 0x7ff38c115f60>"
      ]
     },
     "execution_count": 21,
     "metadata": {},
     "output_type": "execute_result"
    },
    {
     "data": {
      "image/png": "[encoded data removed]",
      "text/plain": [
       "<Figure size 432x288 with 1 Axes>"
      ]
     },
     "metadata": {
      "needs_background": "light"
     },
     "output_type": "display_data"
    }
   ],
   "source": [
    "plt.imshow(img)"
   ]
  },
  {
   "cell_type": "code",
   "execution_count": 22,
   "metadata": {},
   "outputs": [
    {
     "data": {
      "text/plain": [
       "<matplotlib.image.AxesImage at 0x7ff38c0fbf98>"
      ]
     },
     "execution_count": 22,
     "metadata": {},
     "output_type": "execute_result"
    },
    {
     "data": {
      "image/png": "[encoded data removed]",
      "text/plain": [
       "<Figure size 432x288 with 1 Axes>"
      ]
     },
     "metadata": {
      "needs_background": "light"
     },
     "output_type": "display_data"
    }
   ],
   "source": [
    "plt.imshow(seg)"
   ]
  },
  {
   "cell_type": "markdown",
   "metadata": {},
   "source": [
    "### Exporting tfrecords "
   ]
  },
  {
   "cell_type": "markdown",
   "metadata": {},
   "source": [
    "Filename format will be:\n",
    "```\n",
    "{split}-res{:02, log2(resolution)}-{:02, chunk}-of-{:02, num_chunks}.tfrecords\n",
    "```"
   ]
  },
  {
   "cell_type": "code",
   "execution_count": 32,
   "metadata": {},
   "outputs": [],
   "source": [
    "TFRECORD_DIR = os.path.join(DEEPFASHION_DIR, 'Fashion Synthesis', 'tfrecords')\n",
    "EXPORT_DIR = {split: os.path.join(TFRECORD_DIR, split) for split in ['train', 'val', 'test']}"
   ]
  },
  {
   "cell_type": "code",
   "execution_count": 34,
   "metadata": {},
   "outputs": [],
   "source": [
    "def get_filename(split, chunk, num_chunks, res):\n",
    "    return '{}-res{:02}-{:02}-of-{:02}.tfrecords'.format(split, int(np.log2(res)), chunk, num_chunks)"
   ]
  },
  {
   "cell_type": "code",
   "execution_count": 35,
   "metadata": {},
   "outputs": [],
   "source": [
    "def save_records(records, split, chunk, num_chunks, res=128):\n",
    "    path = os.path.join(EXPORT_DIR[split], get_filename(split, chunk, num_chunks, res))\n",
    "    with tf.python_io.TFRecordWriter(path) as writer:\n",
    "        for record in records:\n",
    "            writer.write(record)"
   ]
  },
  {
   "cell_type": "code",
   "execution_count": 37,
   "metadata": {},
   "outputs": [
    {
     "data": {
      "application/vnd.jupyter.widget-view+json": {
       "model_id": "14ef87cf63e042038dc3347484d6f67e",
       "version_major": 2,
       "version_minor": 0
      },
      "text/plain": [
       "HBox(children=(IntProgress(value=0, max=33), HTML(value='')))"
      ]
     },
     "metadata": {},
     "output_type": "display_data"
    },
    {
     "name": "stdout",
     "output_type": "stream",
     "text": [
      "\n"
     ]
    },
    {
     "data": {
      "application/vnd.jupyter.widget-view+json": {
       "model_id": "7e7c2bc214ef400e8acd6c91eb91c208",
       "version_major": 2,
       "version_minor": 0
      },
      "text/plain": [
       "HBox(children=(IntProgress(value=0, max=9), HTML(value='')))"
      ]
     },
     "metadata": {},
     "output_type": "display_data"
    },
    {
     "name": "stdout",
     "output_type": "stream",
     "text": [
      "\n"
     ]
    },
    {
     "data": {
      "application/vnd.jupyter.widget-view+json": {
       "model_id": "8e9ffb9111734f0b9ffdeb726a3de08d",
       "version_major": 2,
       "version_minor": 0
      },
      "text/plain": [
       "HBox(children=(IntProgress(value=0, max=11), HTML(value='')))"
      ]
     },
     "metadata": {},
     "output_type": "display_data"
    },
    {
     "name": "stdout",
     "output_type": "stream",
     "text": [
      "\n"
     ]
    }
   ],
   "source": [
    "for split in ['train', 'val', 'test']:\n",
    "    for chunk in tqdm(range(len(img_chunks[split]))):\n",
    "        records = [serialize_example(img_chunks[split][chunk][i], seg_chunks[split][chunk][i]) \n",
    "                   for i in range(len(img_chunks[split][chunk]))]\n",
    "        save_records(records, split, chunk+1, len(img_chunks[split]))"
   ]
  }
 ],
 "metadata": {
  "kernelspec": {
   "display_name": "Python [conda env:fashion-flow]",
   "language": "python",
   "name": "conda-env-fashion-flow-py"
  },
  "language_info": {
   "codemirror_mode": {
    "name": "ipython",
    "version": 3
   },
   "file_extension": ".py",
   "mimetype": "text/x-python",
   "name": "python",
   "nbconvert_exporter": "python",
   "pygments_lexer": "ipython3",
   "version": "3.6.9"
  }
 },
 "nbformat": 4,
 "nbformat_minor": 4
}
